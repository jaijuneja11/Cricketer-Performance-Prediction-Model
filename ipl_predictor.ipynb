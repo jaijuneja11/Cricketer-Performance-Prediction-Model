{
 "cells": [
  {
   "cell_type": "code",
   "execution_count": 29,
   "id": "13283f39-c85e-47fd-9f74-e0e742b0b078",
   "metadata": {},
   "outputs": [
    {
     "name": "stdout",
     "output_type": "stream",
     "text": [
      "Collecting xgboost\n",
      "  Downloading xgboost-3.0.3-py3-none-win_amd64.whl.metadata (2.1 kB)\n",
      "Requirement already satisfied: numpy in c:\\users\\jerry\\anaconda3\\lib\\site-packages (from xgboost) (1.26.4)\n",
      "Requirement already satisfied: scipy in c:\\users\\jerry\\anaconda3\\lib\\site-packages (from xgboost) (1.13.1)\n",
      "Downloading xgboost-3.0.3-py3-none-win_amd64.whl (149.9 MB)\n",
      "   ---------------------------------------- 0.0/149.9 MB ? eta -:--:--\n",
      "   ---------------------------------------- 1.6/149.9 MB 8.3 MB/s eta 0:00:18\n",
      "    --------------------------------------- 3.7/149.9 MB 9.1 MB/s eta 0:00:17\n",
      "   - -------------------------------------- 5.5/149.9 MB 9.1 MB/s eta 0:00:16\n",
      "   - -------------------------------------- 7.3/149.9 MB 9.1 MB/s eta 0:00:16\n",
      "   -- ------------------------------------- 9.2/149.9 MB 9.0 MB/s eta 0:00:16\n",
      "   --- ------------------------------------ 11.3/149.9 MB 9.1 MB/s eta 0:00:16\n",
      "   --- ------------------------------------ 13.1/149.9 MB 9.1 MB/s eta 0:00:15\n",
      "   --- ------------------------------------ 14.9/149.9 MB 9.1 MB/s eta 0:00:15\n",
      "   ---- ----------------------------------- 17.0/149.9 MB 9.3 MB/s eta 0:00:15\n",
      "   ----- ---------------------------------- 18.9/149.9 MB 9.2 MB/s eta 0:00:15\n",
      "   ----- ---------------------------------- 20.7/149.9 MB 9.2 MB/s eta 0:00:15\n",
      "   ------ --------------------------------- 22.8/149.9 MB 9.2 MB/s eta 0:00:14\n",
      "   ------ --------------------------------- 24.6/149.9 MB 9.2 MB/s eta 0:00:14\n",
      "   ------- -------------------------------- 26.5/149.9 MB 9.2 MB/s eta 0:00:14\n",
      "   ------- -------------------------------- 28.3/149.9 MB 9.2 MB/s eta 0:00:14\n",
      "   -------- ------------------------------- 30.1/149.9 MB 9.2 MB/s eta 0:00:14\n",
      "   -------- ------------------------------- 32.2/149.9 MB 9.2 MB/s eta 0:00:13\n",
      "   --------- ------------------------------ 34.1/149.9 MB 9.2 MB/s eta 0:00:13\n",
      "   --------- ------------------------------ 36.2/149.9 MB 9.2 MB/s eta 0:00:13\n",
      "   ---------- ----------------------------- 38.0/149.9 MB 9.2 MB/s eta 0:00:13\n",
      "   ---------- ----------------------------- 40.1/149.9 MB 9.2 MB/s eta 0:00:12\n",
      "   ----------- ---------------------------- 41.9/149.9 MB 9.2 MB/s eta 0:00:12\n",
      "   ----------- ---------------------------- 43.8/149.9 MB 9.2 MB/s eta 0:00:12\n",
      "   ------------ --------------------------- 45.9/149.9 MB 9.2 MB/s eta 0:00:12\n",
      "   ------------ --------------------------- 47.7/149.9 MB 9.2 MB/s eta 0:00:12\n",
      "   ------------- -------------------------- 49.8/149.9 MB 9.2 MB/s eta 0:00:11\n",
      "   ------------- -------------------------- 51.6/149.9 MB 9.2 MB/s eta 0:00:11\n",
      "   -------------- ------------------------- 53.5/149.9 MB 9.3 MB/s eta 0:00:11\n",
      "   -------------- ------------------------- 55.6/149.9 MB 9.2 MB/s eta 0:00:11\n",
      "   --------------- ------------------------ 57.4/149.9 MB 9.3 MB/s eta 0:00:10\n",
      "   --------------- ------------------------ 59.5/149.9 MB 9.3 MB/s eta 0:00:10\n",
      "   ---------------- ----------------------- 61.3/149.9 MB 9.3 MB/s eta 0:00:10\n",
      "   ---------------- ----------------------- 63.2/149.9 MB 9.3 MB/s eta 0:00:10\n",
      "   ----------------- ---------------------- 65.3/149.9 MB 9.3 MB/s eta 0:00:10\n",
      "   ----------------- ---------------------- 67.1/149.9 MB 9.3 MB/s eta 0:00:09\n",
      "   ------------------ --------------------- 69.2/149.9 MB 9.3 MB/s eta 0:00:09\n",
      "   ------------------- -------------------- 71.3/149.9 MB 9.3 MB/s eta 0:00:09\n",
      "   ------------------- -------------------- 73.1/149.9 MB 9.3 MB/s eta 0:00:09\n",
      "   -------------------- ------------------- 75.2/149.9 MB 9.3 MB/s eta 0:00:09\n",
      "   -------------------- ------------------- 77.1/149.9 MB 9.3 MB/s eta 0:00:08\n",
      "   --------------------- ------------------ 79.2/149.9 MB 9.3 MB/s eta 0:00:08\n",
      "   --------------------- ------------------ 81.3/149.9 MB 9.3 MB/s eta 0:00:08\n",
      "   ---------------------- ----------------- 83.1/149.9 MB 9.3 MB/s eta 0:00:08\n",
      "   ---------------------- ----------------- 84.9/149.9 MB 9.3 MB/s eta 0:00:07\n",
      "   ----------------------- ---------------- 87.0/149.9 MB 9.3 MB/s eta 0:00:07\n",
      "   ----------------------- ---------------- 88.9/149.9 MB 9.3 MB/s eta 0:00:07\n",
      "   ------------------------ --------------- 90.7/149.9 MB 9.3 MB/s eta 0:00:07\n",
      "   ------------------------ --------------- 92.8/149.9 MB 9.3 MB/s eta 0:00:07\n",
      "   ------------------------- -------------- 94.6/149.9 MB 9.3 MB/s eta 0:00:06\n",
      "   ------------------------- -------------- 96.7/149.9 MB 9.3 MB/s eta 0:00:06\n",
      "   -------------------------- ------------- 98.6/149.9 MB 9.3 MB/s eta 0:00:06\n",
      "   -------------------------- ------------- 100.7/149.9 MB 9.3 MB/s eta 0:00:06\n",
      "   --------------------------- ------------ 102.5/149.9 MB 9.3 MB/s eta 0:00:06\n",
      "   --------------------------- ------------ 104.1/149.9 MB 9.3 MB/s eta 0:00:05\n",
      "   ---------------------------- ----------- 105.9/149.9 MB 9.3 MB/s eta 0:00:05\n",
      "   ---------------------------- ----------- 108.0/149.9 MB 9.3 MB/s eta 0:00:05\n",
      "   ----------------------------- ---------- 109.8/149.9 MB 9.3 MB/s eta 0:00:05\n",
      "   ----------------------------- ---------- 111.7/149.9 MB 9.3 MB/s eta 0:00:05\n",
      "   ------------------------------ --------- 113.8/149.9 MB 9.3 MB/s eta 0:00:04\n",
      "   ------------------------------ --------- 115.9/149.9 MB 9.3 MB/s eta 0:00:04\n",
      "   ------------------------------- -------- 117.7/149.9 MB 9.3 MB/s eta 0:00:04\n",
      "   ------------------------------- -------- 119.8/149.9 MB 9.3 MB/s eta 0:00:04\n",
      "   -------------------------------- ------- 121.9/149.9 MB 9.3 MB/s eta 0:00:04\n",
      "   --------------------------------- ------ 124.0/149.9 MB 9.3 MB/s eta 0:00:03\n",
      "   --------------------------------- ------ 126.1/149.9 MB 9.3 MB/s eta 0:00:03\n",
      "   ---------------------------------- ----- 127.9/149.9 MB 9.3 MB/s eta 0:00:03\n",
      "   ---------------------------------- ----- 130.0/149.9 MB 9.3 MB/s eta 0:00:03\n",
      "   ----------------------------------- ---- 131.9/149.9 MB 9.3 MB/s eta 0:00:02\n",
      "   ----------------------------------- ---- 133.4/149.9 MB 9.3 MB/s eta 0:00:02\n",
      "   ------------------------------------ --- 135.0/149.9 MB 9.3 MB/s eta 0:00:02\n",
      "   ------------------------------------ --- 137.1/149.9 MB 9.3 MB/s eta 0:00:02\n",
      "   ------------------------------------- -- 139.2/149.9 MB 9.3 MB/s eta 0:00:02\n",
      "   ------------------------------------- -- 141.0/149.9 MB 9.2 MB/s eta 0:00:01\n",
      "   -------------------------------------- - 143.1/149.9 MB 9.3 MB/s eta 0:00:01\n",
      "   -------------------------------------- - 145.2/149.9 MB 9.3 MB/s eta 0:00:01\n",
      "   ---------------------------------------  147.1/149.9 MB 9.3 MB/s eta 0:00:01\n",
      "   ---------------------------------------  148.9/149.9 MB 9.3 MB/s eta 0:00:01\n",
      "   ---------------------------------------  149.7/149.9 MB 9.3 MB/s eta 0:00:01\n",
      "   ---------------------------------------  149.7/149.9 MB 9.3 MB/s eta 0:00:01\n",
      "   ---------------------------------------  149.7/149.9 MB 9.3 MB/s eta 0:00:01\n",
      "   ---------------------------------------- 149.9/149.9 MB 9.0 MB/s eta 0:00:00\n",
      "Installing collected packages: xgboost\n",
      "Successfully installed xgboost-3.0.3\n"
     ]
    }
   ],
   "source": [
    "!pip install xgboost"
   ]
  },
  {
   "cell_type": "code",
   "execution_count": 30,
   "id": "84c81cf6-d338-4d7e-b4c7-984cc16862ef",
   "metadata": {},
   "outputs": [],
   "source": [
    "import pandas as pd\n",
    "import numpy as np\n",
    "from sklearn.model_selection import train_test_split\n",
    "from sklearn.metrics import mean_squared_error, r2_score\n",
    "from xgboost import XGBRegressor\n",
    "import warnings\n",
    "warnings.filterwarnings('ignore')"
   ]
  },
  {
   "cell_type": "code",
   "execution_count": 32,
   "id": "97cb27ca-24f8-4826-a3fd-d655b719579a",
   "metadata": {},
   "outputs": [],
   "source": [
    "deliveries = pd.read_csv('deliveries.csv')\n",
    "matches = pd.read_csv('matches.csv')"
   ]
  },
  {
   "cell_type": "code",
   "execution_count": 34,
   "id": "c5e429e2-2341-41b2-a08b-e3b34374c93a",
   "metadata": {},
   "outputs": [],
   "source": [
    "player_match_df = deliveries.groupby(['match_id', 'batsman']).agg({\n",
    "    'batsman_runs': 'sum',\n",
    "    'ball': 'count',\n",
    "    'bowling_team': lambda x: x.mode()[0],\n",
    "    'batting_team': lambda x: x.mode()[0]\n",
    "}).rename(columns={'batsman_runs': 'runs_scored', 'ball': 'balls_faced'}).reset_index()"
   ]
  },
  {
   "cell_type": "code",
   "execution_count": 35,
   "id": "d0602b35-8603-4f4a-9fe9-29192332c4ab",
   "metadata": {},
   "outputs": [],
   "source": [
    "player_match_df = player_match_df.sort_values(by=['batsman', 'match_id'])\n",
    "\n",
    "player_match_df['rolling_avg_runs_3'] = (\n",
    "    player_match_df.groupby('batsman')['runs_scored']\n",
    "    .transform(lambda x: x.shift(1).rolling(window=3, min_periods=1).mean())\n",
    ")\n",
    "\n",
    "player_match_df['rolling_strike_rate_3'] = (\n",
    "    100 * player_match_df.groupby('batsman')['runs_scored']\n",
    "    .transform(lambda x: x.shift(1).rolling(3, min_periods=1).sum()) /\n",
    "    player_match_df.groupby('batsman')['balls_faced']\n",
    "    .transform(lambda x: x.shift(1).rolling(3, min_periods=1).sum())\n",
    ")\n",
    "\n",
    "player_match_df['matches_played'] = (\n",
    "    player_match_df.groupby('batsman').cumcount()\n",
    ")"
   ]
  },
  {
   "cell_type": "code",
   "execution_count": 36,
   "id": "4a83eb12-a0db-4ef5-b20e-8b178999bbae",
   "metadata": {},
   "outputs": [],
   "source": [
    "# Keep only players with 20+ matches\n",
    "counts = player_match_df['batsman'].value_counts()\n",
    "frequent_players = counts[counts > 20].index\n",
    "player_match_df = player_match_df[player_match_df['batsman'].isin(frequent_players)]"
   ]
  },
  {
   "cell_type": "code",
   "execution_count": 37,
   "id": "6a211f79-ec35-46c3-82e0-62e23f9e6ff2",
   "metadata": {},
   "outputs": [],
   "source": [
    "df = pd.get_dummies(player_match_df, columns=['batting_team', 'bowling_team'])\n",
    "\n",
    "# Drop rows with NaNs from rolling stats\n",
    "df = df.dropna(subset=['rolling_avg_runs_3', 'rolling_strike_rate_3'])\n",
    "\n",
    "# Features and target\n",
    "features = [col for col in df.columns if col not in ['runs_scored', 'batsman', 'match_id']]\n",
    "X = df[features]\n",
    "y = df['runs_scored']"
   ]
  },
  {
   "cell_type": "code",
   "execution_count": 38,
   "id": "346d6e81-50df-44a9-a8b0-ab11286a7f57",
   "metadata": {},
   "outputs": [],
   "source": [
    "X_train, X_test, y_train, y_test = train_test_split(\n",
    "    X, y, test_size=0.2, random_state=42\n",
    ")"
   ]
  },
  {
   "cell_type": "code",
   "execution_count": 39,
   "id": "98e3fc94-ef10-42b7-b4e3-03e2b8e94868",
   "metadata": {},
   "outputs": [
    {
     "name": "stdout",
     "output_type": "stream",
     "text": [
      "✅ RMSE: 8.78\n",
      "✅ R² Score: 0.8403\n"
     ]
    }
   ],
   "source": [
    "model = XGBRegressor(n_estimators=200, learning_rate=0.1, max_depth=5, random_state=42)\n",
    "model.fit(X_train, y_train)\n",
    "\n",
    "y_pred = model.predict(X_test)\n",
    "\n",
    "rmse = mean_squared_error(y_test, y_pred, squared=False)\n",
    "r2 = r2_score(y_test, y_pred)\n",
    "\n",
    "print(f\"✅ RMSE: {rmse:.2f}\")\n",
    "print(f\"✅ R² Score: {r2:.4f}\")"
   ]
  },
  {
   "cell_type": "code",
   "execution_count": 40,
   "id": "17130c7c-e142-4e92-a0b2-98337eb0fe91",
   "metadata": {},
   "outputs": [
    {
     "data": {
      "text/plain": [
       "['ipl_predictor.pkl']"
      ]
     },
     "execution_count": 40,
     "metadata": {},
     "output_type": "execute_result"
    }
   ],
   "source": [
    "import joblib\n",
    "joblib.dump(model, 'ipl_predictor.pkl')"
   ]
  },
  {
   "cell_type": "code",
   "execution_count": 41,
   "id": "668cf7e8-4466-4dba-b572-94b3981cbf7d",
   "metadata": {},
   "outputs": [
    {
     "data": {
      "text/plain": [
       "['feature_columns.pkl']"
      ]
     },
     "execution_count": 41,
     "metadata": {},
     "output_type": "execute_result"
    }
   ],
   "source": [
    "joblib.dump(X.columns.tolist(), \"feature_columns.pkl\")"
   ]
  },
  {
   "cell_type": "code",
   "execution_count": 42,
   "id": "ca1f341d-f043-47ec-9e02-3ac99ae70fef",
   "metadata": {},
   "outputs": [
    {
     "data": {
      "text/plain": [
       "['X_data.pkl']"
      ]
     },
     "execution_count": 42,
     "metadata": {},
     "output_type": "execute_result"
    }
   ],
   "source": [
    "joblib.dump(X, \"X_data.pkl\") "
   ]
  },
  {
   "cell_type": "code",
   "execution_count": null,
   "id": "08b6cd6b-7cb1-4709-82da-f0cb49fbd5c5",
   "metadata": {},
   "outputs": [],
   "source": []
  }
 ],
 "metadata": {
  "kernelspec": {
   "display_name": "Python [conda env:base] *",
   "language": "python",
   "name": "conda-base-py"
  },
  "language_info": {
   "codemirror_mode": {
    "name": "ipython",
    "version": 3
   },
   "file_extension": ".py",
   "mimetype": "text/x-python",
   "name": "python",
   "nbconvert_exporter": "python",
   "pygments_lexer": "ipython3",
   "version": "3.12.7"
  }
 },
 "nbformat": 4,
 "nbformat_minor": 5
}
